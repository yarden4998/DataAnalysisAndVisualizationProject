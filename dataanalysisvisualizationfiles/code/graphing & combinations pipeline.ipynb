{
 "cells": [
  {
   "cell_type": "code",
   "execution_count": 21,
   "metadata": {},
   "outputs": [],
   "source": [
    "import faiss\n",
    "import numpy as np\n",
    "from sentence_transformers import SentenceTransformer\n",
    "from sklearn.metrics import accuracy_score,classification_report,pairwise_distances_argmin_min,silhouette_score, hamming_loss, f1_score, precision_score, recall_score, jaccard_score\n",
    "from sklearn.ensemble import RandomForestClassifier\n",
    "from sklearn.preprocessing import LabelEncoder, MultiLabelBinarizer\n",
    "from preprocess_data import preprocess_data\n",
    "from sklearn.model_selection import train_test_split\n",
    "from sklearn.preprocessing import normalize\n",
    "from sklearn.metrics.pairwise import cosine_distances,pairwise_distances\n",
    "from sklearn.cluster import KMeans\n",
    "from collections import Counter\n",
    "from sklearn.linear_model import SGDClassifier\n",
    "from sklearn.utils.class_weight import compute_class_weight\n",
    "import pandas as pd\n",
    "from sklearn.multioutput import MultiOutputClassifier\n"
   ]
  },
  {
   "cell_type": "code",
   "execution_count": 3,
   "metadata": {},
   "outputs": [
    {
     "name": "stderr",
     "output_type": "stream",
     "text": [
      "/home/student/.cache/pypoetry/virtualenvs/dataanalysisvisualizationfiles-qa5NmZKI-py3.10/lib/python3.10/site-packages/transformers/tokenization_utils_base.py:1601: FutureWarning: `clean_up_tokenization_spaces` was not set. It will be set to `True` by default. This behavior will be depracted in transformers v4.45, and will be then set to `False` by default. For more details check this issue: https://github.com/huggingface/transformers/issues/31884\n",
      "  warnings.warn(\n",
      "Batches: 100%|██████████| 2464/2464 [03:27<00:00, 11.87it/s]\n"
     ]
    }
   ],
   "source": [
    "data = preprocess_data()\n",
    "descriptions = data['description_processed'].tolist()\n",
    "genres = data['genre'].tolist()\n",
    "mlb = MultiLabelBinarizer()\n",
    "y = mlb.fit_transform(genres)\n",
    "model = SentenceTransformer('sentence-transformers/all-mpnet-base-v2')\n",
    "X = model.encode(descriptions, show_progress_bar=True)"
   ]
  },
  {
   "cell_type": "code",
   "execution_count": 101,
   "metadata": {},
   "outputs": [],
   "source": [
    "initial_train_size = 1000\n",
    "iterations = 10\n",
    "uncertainty_threshold = 0.2\n",
    "budget_per_iteration = 1000    "
   ]
  },
  {
   "cell_type": "code",
   "execution_count": 6,
   "metadata": {},
   "outputs": [],
   "source": [
    "X_train_full, X_test, y_train_full, y_test = train_test_split(X, y, test_size=0.2, random_state=42)\n",
    "X_train_full_normalized = normalize(X_train_full, axis=1, norm='l2')\n",
    "X_test_normalized = normalize(X_test, axis=1, norm='l2')\n",
    "np.random.seed(42)\n",
    "initial_indices = np.random.choice(len(X_train_full_normalized), initial_train_size, replace=False)"
   ]
  },
  {
   "cell_type": "code",
   "execution_count": 20,
   "metadata": {},
   "outputs": [],
   "source": [
    "classes = [list(range(y_item.max() + 1)) for y_item in y.T]\n",
    "clf = MultiOutputClassifier(SGDClassifier(loss='log_loss', random_state=42))"
   ]
  },
  {
   "cell_type": "code",
   "execution_count": 104,
   "metadata": {},
   "outputs": [],
   "source": [
    "methods = ['random', 'cluster']"
   ]
  },
  {
   "cell_type": "code",
   "execution_count": 100,
   "metadata": {},
   "outputs": [],
   "source": [
    "def sample(method, X_train, X_pool, remaining_indices, budget):\n",
    "    if method == 'random':\n",
    "        return np.random.choice(remaining_indices, budget, replace=False)\n",
    "    \n",
    "    elif method == 'cluster':\n",
    "        num_clusters = 20\n",
    "        clustering = faiss.Clustering(X_train.shape[1], num_clusters)\n",
    "        clustering.verbose = False\n",
    "        clustering.niter = 50\n",
    "        remaining_data = np.array([X_pool[i] for i in remaining_indices]).astype('float32')\n",
    "        index_flat = faiss.IndexFlatIP(X_train.shape[1])\n",
    "        clustering.train(remaining_data, index_flat)\n",
    "        D, cluster_assignments = index_flat.search(remaining_data, 1)\n",
    "        centroids = faiss.vector_to_array(clustering.centroids).reshape(num_clusters, X_train.shape[1])\n",
    "\n",
    "        selected_indices = []\n",
    "        for cluster in range(num_clusters):\n",
    "            cluster_indices = [i for i, label in zip(remaining_indices, cluster_assignments) if label == cluster]\n",
    "            if cluster_indices:\n",
    "                num_to_select_from_cluster = min((int((500/num_clusters)/2)), int(len(cluster_indices)/2))\n",
    "                cluster_center = centroids[cluster].reshape(1, -1)\n",
    "                distances, _ = index_flat.search(cluster_center, len(cluster_indices))\n",
    "                closest_samples = [cluster_indices[i] for i in distances[0].argsort()[:num_to_select_from_cluster]]\n",
    "                selected_indices.extend(closest_samples)\n",
    "\n",
    "                cluster_data = X_pool[cluster_indices]\n",
    "                pairwise_distances_matrix = pairwise_distances(cluster_data)\n",
    "                diversity_scores = pairwise_distances_matrix.mean(axis=1)\n",
    "                most_diverse_indices = np.argsort(-diversity_scores)[:num_to_select_from_cluster]\n",
    "                diverse_samples = [cluster_indices[i] for i in most_diverse_indices]\n",
    "                selected_indices.extend(diverse_samples)\n",
    "\n",
    "        return selected_indices"
   ]
  },
  {
   "cell_type": "code",
   "execution_count": 105,
   "metadata": {},
   "outputs": [
    {
     "name": "stdout",
     "output_type": "stream",
     "text": [
      "Running active learning with random sampling\n",
      "Iteration 1/10 - Accuracy: 0.0025366224871583485, Hamming Loss: 0.1457948165095099, Jaccard: 0.18969627972101177, F1: 0.29690532481738946\n",
      "Iteration 2/10 - Accuracy: 0.038302999556091066, Hamming Loss: 0.10351858807689869, Jaccard: 0.24768480351744987, F1: 0.3634400215976243\n",
      "Iteration 3/10 - Accuracy: 0.1250554886169066, Hamming Loss: 0.0745962136031259, Jaccard: 0.36679259185442203, F1: 0.4764985793023176\n",
      "Iteration 4/10 - Accuracy: 0.16044137231276556, Hamming Loss: 0.06734488797397035, Jaccard: 0.3873369691588982, F1: 0.4898094938930875\n",
      "Iteration 5/10 - Accuracy: 0.1644999682922189, Hamming Loss: 0.06623999375600619, Jaccard: 0.4176517217325131, F1: 0.5149317710938058\n",
      "Iteration 6/10 - Accuracy: 0.16304141036210287, Hamming Loss: 0.06498387781284604, Jaccard: 0.35818166444712196, F1: 0.4598479472883933\n",
      "Iteration 7/10 - Accuracy: 0.17515378273828397, Hamming Loss: 0.06386922735454666, Jaccard: 0.39905405119749715, F1: 0.4976596071209331\n",
      "Iteration 8/10 - Accuracy: 0.16247067030249224, Hamming Loss: 0.0653643711859198, Jaccard: 0.4327166924858598, F1: 0.5355056764017679\n",
      "Iteration 9/10 - Accuracy: 0.18029044327477964, Hamming Loss: 0.06309848436806392, Jaccard: 0.4000919525651595, F1: 0.4935593751223523\n",
      "Iteration 10/10 - Accuracy: 0.18206607901579047, Hamming Loss: 0.06258628175046464, Jaccard: 0.41783139915868683, F1: 0.5123527175978715\n",
      "              precision    recall  f1-score   support\n",
      "\n",
      "      Action       0.67      0.28      0.40      2408\n",
      "       Adult       0.00      0.00      0.00         0\n",
      "   Adventure       0.67      0.13      0.22      1354\n",
      "   Animation       0.70      0.04      0.07       383\n",
      "   Biography       0.81      0.05      0.09       446\n",
      "      Comedy       0.64      0.54      0.58      5407\n",
      "       Crime       0.59      0.36      0.45      2050\n",
      " Documentary       0.00      0.00      0.00         0\n",
      "       Drama       0.68      0.81      0.74      8532\n",
      "      Family       0.55      0.19      0.29       713\n",
      "     Fantasy       0.45      0.02      0.04       681\n",
      "   Film-Noir       0.00      0.00      0.00       125\n",
      "   Game-Show       0.00      0.00      0.00         1\n",
      "     History       0.56      0.02      0.04       385\n",
      "      Horror       0.78      0.43      0.56      1820\n",
      "       Music       0.55      0.15      0.23       327\n",
      "     Musical       0.36      0.01      0.02       382\n",
      "     Mystery       0.56      0.05      0.10       926\n",
      "        News       0.00      0.00      0.00         0\n",
      "  Reality-TV       0.00      0.00      0.00         1\n",
      "     Romance       0.66      0.17      0.27      2600\n",
      "      Sci-Fi       0.77      0.30      0.43       709\n",
      "       Sport       0.38      0.04      0.08       190\n",
      "    Thriller       0.46      0.05      0.09      2125\n",
      "         War       0.66      0.16      0.26       422\n",
      "     Western       0.71      0.44      0.55       312\n",
      "\n",
      "   micro avg       0.66      0.42      0.51     32299\n",
      "   macro avg       0.47      0.16      0.21     32299\n",
      "weighted avg       0.64      0.42      0.45     32299\n",
      " samples avg       0.63      0.48      0.51     32299\n",
      "\n",
      "Running active learning with cluster sampling\n"
     ]
    },
    {
     "name": "stderr",
     "output_type": "stream",
     "text": [
      "/home/student/.cache/pypoetry/virtualenvs/dataanalysisvisualizationfiles-qa5NmZKI-py3.10/lib/python3.10/site-packages/sklearn/metrics/_classification.py:1531: UndefinedMetricWarning: Precision is ill-defined and being set to 0.0 in labels with no predicted samples. Use `zero_division` parameter to control this behavior.\n",
      "  _warn_prf(average, modifier, f\"{metric.capitalize()} is\", len(result))\n",
      "/home/student/.cache/pypoetry/virtualenvs/dataanalysisvisualizationfiles-qa5NmZKI-py3.10/lib/python3.10/site-packages/sklearn/metrics/_classification.py:1531: UndefinedMetricWarning: Recall is ill-defined and being set to 0.0 in labels with no true samples. Use `zero_division` parameter to control this behavior.\n",
      "  _warn_prf(average, modifier, f\"{metric.capitalize()} is\", len(result))\n",
      "/home/student/.cache/pypoetry/virtualenvs/dataanalysisvisualizationfiles-qa5NmZKI-py3.10/lib/python3.10/site-packages/sklearn/metrics/_classification.py:1531: UndefinedMetricWarning: F-score is ill-defined and being set to 0.0 in labels with no true nor predicted samples. Use `zero_division` parameter to control this behavior.\n",
      "  _warn_prf(average, modifier, f\"{metric.capitalize()} is\", len(result))\n",
      "/home/student/.cache/pypoetry/virtualenvs/dataanalysisvisualizationfiles-qa5NmZKI-py3.10/lib/python3.10/site-packages/sklearn/metrics/_classification.py:1531: UndefinedMetricWarning: Precision is ill-defined and being set to 0.0 in samples with no predicted labels. Use `zero_division` parameter to control this behavior.\n",
      "  _warn_prf(average, modifier, f\"{metric.capitalize()} is\", len(result))\n"
     ]
    },
    {
     "name": "stdout",
     "output_type": "stream",
     "text": [
      "Iteration 1/10 - Accuracy: 0.0025366224871583485, Hamming Loss: 0.1457948165095099, Jaccard: 0.18969627972101177, F1: 0.29690532481738946\n",
      "Iteration 2/10 - Accuracy: 0.07546451899296087, Hamming Loss: 0.09163548734859535, Jaccard: 0.29287873434617046, F1: 0.3999361124421019\n",
      "Iteration 3/10 - Accuracy: 0.11192846724586214, Hamming Loss: 0.07890603277121129, Jaccard: 0.39095067477177947, F1: 0.4936215505501902\n",
      "Iteration 4/10 - Accuracy: 0.10279662629209207, Hamming Loss: 0.07996214578749933, Jaccard: 0.3723459832280937, F1: 0.4764946346448646\n",
      "Iteration 5/10 - Accuracy: 0.1368507831821929, Hamming Loss: 0.07317911969443455, Jaccard: 0.35381444606506435, F1: 0.4537062325886273\n",
      "Iteration 6/10 - Accuracy: 0.1345678229437504, Hamming Loss: 0.06946930930696547, Jaccard: 0.3251928890016276, F1: 0.4308380959993605\n",
      "Iteration 7/10 - Accuracy: 0.15308516710000633, Hamming Loss: 0.06837417132933653, Jaccard: 0.40570951444817893, F1: 0.5046910613636765\n",
      "Iteration 8/10 - Accuracy: 0.1466801953199315, Hamming Loss: 0.06741805977648453, Jaccard: 0.3300938550320249, F1: 0.4306576860491462\n",
      "Iteration 9/10 - Accuracy: 0.14788509100133174, Hamming Loss: 0.06864734605872282, Jaccard: 0.38682753080939397, F1: 0.4838904883281683\n",
      "Iteration 10/10 - Accuracy: 0.16767074640116686, Hamming Loss: 0.06493265755108611, Jaccard: 0.39765468112541486, F1: 0.4940514652780417\n",
      "              precision    recall  f1-score   support\n",
      "\n",
      "      Action       0.71      0.23      0.34      2408\n",
      "       Adult       0.00      0.00      0.00         0\n",
      "   Adventure       0.47      0.38      0.42      1354\n",
      "   Animation       0.57      0.13      0.21       383\n",
      "   Biography       0.80      0.08      0.15       446\n",
      "      Comedy       0.66      0.47      0.55      5407\n",
      "       Crime       0.67      0.14      0.23      2050\n",
      " Documentary       0.00      0.00      0.00         0\n",
      "       Drama       0.67      0.78      0.72      8532\n",
      "      Family       0.44      0.26      0.33       713\n",
      "     Fantasy       0.42      0.06      0.11       681\n",
      "   Film-Noir       0.00      0.00      0.00       125\n",
      "   Game-Show       0.00      0.00      0.00         1\n",
      "     History       0.47      0.04      0.07       385\n",
      "      Horror       0.80      0.34      0.48      1820\n",
      "       Music       0.50      0.00      0.01       327\n",
      "     Musical       0.40      0.04      0.08       382\n",
      "     Mystery       0.41      0.20      0.27       926\n",
      "        News       0.00      0.00      0.00         0\n",
      "  Reality-TV       0.00      0.00      0.00         1\n",
      "     Romance       0.59      0.21      0.32      2600\n",
      "      Sci-Fi       0.84      0.14      0.24       709\n",
      "       Sport       0.50      0.28      0.36       190\n",
      "    Thriller       0.42      0.15      0.22      2125\n",
      "         War       0.64      0.27      0.38       422\n",
      "     Western       0.70      0.47      0.56       312\n",
      "\n",
      "   micro avg       0.64      0.40      0.49     32299\n",
      "   macro avg       0.45      0.18      0.23     32299\n",
      "weighted avg       0.62      0.40      0.45     32299\n",
      " samples avg       0.60      0.46      0.48     32299\n",
      "\n"
     ]
    },
    {
     "name": "stderr",
     "output_type": "stream",
     "text": [
      "/home/student/.cache/pypoetry/virtualenvs/dataanalysisvisualizationfiles-qa5NmZKI-py3.10/lib/python3.10/site-packages/sklearn/metrics/_classification.py:1531: UndefinedMetricWarning: Precision is ill-defined and being set to 0.0 in labels with no predicted samples. Use `zero_division` parameter to control this behavior.\n",
      "  _warn_prf(average, modifier, f\"{metric.capitalize()} is\", len(result))\n",
      "/home/student/.cache/pypoetry/virtualenvs/dataanalysisvisualizationfiles-qa5NmZKI-py3.10/lib/python3.10/site-packages/sklearn/metrics/_classification.py:1531: UndefinedMetricWarning: Recall is ill-defined and being set to 0.0 in labels with no true samples. Use `zero_division` parameter to control this behavior.\n",
      "  _warn_prf(average, modifier, f\"{metric.capitalize()} is\", len(result))\n",
      "/home/student/.cache/pypoetry/virtualenvs/dataanalysisvisualizationfiles-qa5NmZKI-py3.10/lib/python3.10/site-packages/sklearn/metrics/_classification.py:1531: UndefinedMetricWarning: F-score is ill-defined and being set to 0.0 in labels with no true nor predicted samples. Use `zero_division` parameter to control this behavior.\n",
      "  _warn_prf(average, modifier, f\"{metric.capitalize()} is\", len(result))\n",
      "/home/student/.cache/pypoetry/virtualenvs/dataanalysisvisualizationfiles-qa5NmZKI-py3.10/lib/python3.10/site-packages/sklearn/metrics/_classification.py:1531: UndefinedMetricWarning: Precision is ill-defined and being set to 0.0 in samples with no predicted labels. Use `zero_division` parameter to control this behavior.\n",
      "  _warn_prf(average, modifier, f\"{metric.capitalize()} is\", len(result))\n"
     ]
    }
   ],
   "source": [
    "acc_dict, f1_dict, loss_dict, jaccard_dict = {}, {}, {}, {}\n",
    "for method in methods:\n",
    "    print(f'Running active learning with {method} sampling')\n",
    "    clf = MultiOutputClassifier(SGDClassifier(loss='log_loss', random_state=42))\n",
    "    accuracies, f1_scores, losses, jaccards = [], [], [], []\n",
    "    X_train = X_train_full_normalized[initial_indices]\n",
    "    y_train = np.array(y_train_full)[initial_indices]\n",
    "    remaining_indices = list(set(range(len(X_train_full_normalized))) - set(initial_indices))\n",
    "    for iteration in range(iterations):\n",
    "        clf.partial_fit(X_train, y_train, classes=classes)\n",
    "        y_pred = clf.predict(X_test_normalized)\n",
    "        acc = accuracy_score(y_test, y_pred)\n",
    "        loss = hamming_loss(y_test, y_pred)\n",
    "        jaccard = jaccard_score(y_test, y_pred, average='samples')\n",
    "        f1 = f1_score(y_test, y_pred, average='micro')\n",
    "        accuracies.append(acc)   \n",
    "        losses.append(loss)\n",
    "        jaccards.append(jaccard)\n",
    "        f1_scores.append(f1)\n",
    "        print(f'Iteration {iteration + 1}/{iterations} - Accuracy: {acc}, Hamming Loss: {loss}, Jaccard: {jaccard}, F1: {f1}')\n",
    "        selected_indices = sample(method, X_train, X_train_full_normalized, remaining_indices, budget_per_iteration)\n",
    "        X_train = np.vstack((X_train, X_train_full_normalized[selected_indices]))\n",
    "        y_train = np.concatenate((y_train, np.array(y_train_full)[selected_indices]))\n",
    "        remaining_indices = list(set(remaining_indices) - set(selected_indices))\n",
    "        \n",
    "    print(classification_report(y_test, y_pred, target_names=mlb.classes_))\n",
    "    acc_dict[method] = accuracies\n",
    "    f1_dict[method] = f1_scores\n",
    "    loss_dict[method] = losses\n",
    "    jaccard_dict[method] = jaccards\n",
    "        "
   ]
  }
 ],
 "metadata": {
  "kernelspec": {
   "display_name": "dataanalysisvisualizationfiles-qa5NmZKI-py3.10",
   "language": "python",
   "name": "python3"
  },
  "language_info": {
   "codemirror_mode": {
    "name": "ipython",
    "version": 3
   },
   "file_extension": ".py",
   "mimetype": "text/x-python",
   "name": "python",
   "nbconvert_exporter": "python",
   "pygments_lexer": "ipython3",
   "version": "3.10.14"
  }
 },
 "nbformat": 4,
 "nbformat_minor": 2
}
