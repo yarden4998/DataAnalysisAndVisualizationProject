{
 "cells": [
  {
   "cell_type": "code",
   "execution_count": 3,
   "metadata": {},
   "outputs": [],
   "source": [
    "import faiss\n",
    "import numpy as np\n",
    "from sentence_transformers import SentenceTransformer\n",
    "from sklearn.metrics import accuracy_score\n",
    "from sklearn.ensemble import RandomForestClassifier\n",
    "from sklearn.multioutput import MultiOutputClassifier\n",
    "from sklearn.preprocessing import LabelEncoder, MultiLabelBinarizer\n",
    "from preprocess_data import preprocess_data\n",
    "from sklearn.model_selection import train_test_split\n",
    "from sklearn.preprocessing import normalize\n"
   ]
  },
  {
   "cell_type": "code",
   "execution_count": 4,
   "metadata": {},
   "outputs": [],
   "source": [
    "# Load the data\n",
    "data = preprocess_data()\n",
    "\n",
    "data['num_genres'] = data['genre'].apply(len)\n",
    "data = data[data['num_genres'] == 1]\n",
    "\n",
    "descriptions = data['description_processed'].tolist()\n",
    "genres = data['genre'].tolist()"
   ]
  },
  {
   "cell_type": "code",
   "execution_count": 5,
   "metadata": {},
   "outputs": [
    {
     "name": "stderr",
     "output_type": "stream",
     "text": [
      "/home/student/.cache/pypoetry/virtualenvs/dataanalysisvisualizationfiles-qa5NmZKI-py3.10/lib/python3.10/site-packages/sklearn/preprocessing/_label.py:114: DataConversionWarning: A column-vector y was passed when a 1d array was expected. Please change the shape of y to (n_samples, ), for example using ravel().\n",
      "  y = column_or_1d(y, warn=True)\n",
      "/home/student/.cache/pypoetry/virtualenvs/dataanalysisvisualizationfiles-qa5NmZKI-py3.10/lib/python3.10/site-packages/transformers/tokenization_utils_base.py:1601: FutureWarning: `clean_up_tokenization_spaces` was not set. It will be set to `True` by default. This behavior will be depracted in transformers v4.45, and will be then set to `False` by default. For more details check this issue: https://github.com/huggingface/transformers/issues/31884\n",
      "  warnings.warn(\n"
     ]
    }
   ],
   "source": [
    "# Encode the genres as numerical labels\n",
    "label_encoder = LabelEncoder()\n",
    "y = label_encoder.fit_transform(genres)\n",
    "\n",
    "# Load a pre-trained sentence-transformer model to convert text to embeddings\n",
    "model = SentenceTransformer('bert-base-nli-mean-tokens')\n"
   ]
  },
  {
   "cell_type": "code",
   "execution_count": 16,
   "metadata": {},
   "outputs": [
    {
     "name": "stderr",
     "output_type": "stream",
     "text": [
      "Batches: 100%|██████████| 762/762 [01:03<00:00, 12.07it/s]\n"
     ]
    }
   ],
   "source": [
    "# Convert descriptions to vector embeddings\n",
    "X = model.encode(descriptions, show_progress_bar=True)\n",
    "\n",
    "# Split the data into train and test sets\n",
    "X_train_full, X_test, y_train_full, y_test = train_test_split(X, y, test_size=0.2, random_state=42)\n",
    "\n",
    "# Normalize the embeddings for cosine similarity\n",
    "X_train_full_normalized = normalize(X_train_full, axis=1, norm='l2')\n",
    "X_test_normalized = normalize(X_test, axis=1, norm='l2')\n",
    "\n",
    "# Active Learning parameters\n",
    "initial_train_size = 50 \n",
    "iterations = 38  \n",
    "sample_size = 500 \n",
    "\n",
    "#Selecting initial training set randomly\n",
    "np.random.seed(42)\n",
    "pool_indices = np.random.choice(len(X_train_full_normalized), initial_train_size, replace=False)\n",
    "X_train = X_train_full_normalized[pool_indices]\n",
    "y_train = np.array(y_train_full)[pool_indices]\n",
    "\n",
    "\n",
    "# Initialize the FAISS Index for Cosine Similarity\n",
    "faiss.omp_set_num_threads(12)\n",
    "embedding_dim = X_train_full_normalized.shape[1]\n",
    "index = faiss.IndexFlatIP(embedding_dim)  # Inner product index for cosine similarity\n",
    "index.add(X_train_full_normalized)  # Add all normalized vectors to the index\n",
    "\n",
    "# Remaining pool of indices\n",
    "remaining_indices = list(set(range(len(X_train_full_normalized))) - set(pool_indices))\n",
    "\n",
    "# Initialize the classifier\n",
    "clf = RandomForestClassifier(n_estimators=200,max_depth=10,min_samples_split=5,  random_state=42)"
   ]
  },
  {
   "cell_type": "code",
   "execution_count": 15,
   "metadata": {},
   "outputs": [
    {
     "name": "stdout",
     "output_type": "stream",
     "text": [
      "Iteration 1: Test Accuracy = 0.4925\n",
      "Iteration 2: Test Accuracy = 0.4937\n",
      "Iteration 3: Test Accuracy = 0.5011\n",
      "Iteration 4: Test Accuracy = 0.5073\n",
      "Iteration 5: Test Accuracy = 0.5208\n",
      "Iteration 6: Test Accuracy = 0.5221\n",
      "Iteration 7: Test Accuracy = 0.5262\n",
      "Iteration 8: Test Accuracy = 0.5155\n",
      "Iteration 9: Test Accuracy = 0.5223\n",
      "Iteration 10: Test Accuracy = 0.5327\n",
      "Iteration 11: Test Accuracy = 0.5338\n",
      "Iteration 12: Test Accuracy = 0.5266\n",
      "Iteration 13: Test Accuracy = 0.5340\n",
      "Iteration 14: Test Accuracy = 0.5428\n",
      "Iteration 15: Test Accuracy = 0.5338\n",
      "Iteration 16: Test Accuracy = 0.5389\n",
      "Iteration 17: Test Accuracy = 0.5377\n",
      "Iteration 18: Test Accuracy = 0.5525\n",
      "Iteration 19: Test Accuracy = 0.5447\n",
      "Iteration 20: Test Accuracy = 0.5383\n",
      "Iteration 21: Test Accuracy = 0.5455\n",
      "Iteration 22: Test Accuracy = 0.5453\n",
      "Iteration 23: Test Accuracy = 0.5451\n",
      "Iteration 24: Test Accuracy = 0.5416\n",
      "Iteration 25: Test Accuracy = 0.5463\n",
      "Iteration 26: Test Accuracy = 0.5496\n",
      "Iteration 27: Test Accuracy = 0.5481\n",
      "Iteration 28: Test Accuracy = 0.5486\n",
      "Iteration 29: Test Accuracy = 0.5510\n",
      "Iteration 30: Test Accuracy = 0.5514\n",
      "Iteration 31: Test Accuracy = 0.5508\n",
      "Iteration 32: Test Accuracy = 0.5547\n",
      "Iteration 33: Test Accuracy = 0.5510\n",
      "Iteration 34: Test Accuracy = 0.5512\n",
      "Iteration 35: Test Accuracy = 0.5479\n",
      "Iteration 36: Test Accuracy = 0.5547\n",
      "Iteration 37: Test Accuracy = 0.5504\n",
      "Iteration 38: Test Accuracy = 0.5531\n"
     ]
    }
   ],
   "source": [
    "# Active Learning Loop\n",
    "for iteration in range(iterations):\n",
    "    # Define number of clusters\n",
    "    num_clusters = min(int(np.sqrt(len(remaining_indices))), len(remaining_indices))  \n",
    "    \n",
    "    # Initialize FAISS clustering\n",
    "    clustering = faiss.Clustering(embedding_dim, num_clusters)\n",
    "    clustering.verbose = False\n",
    "    clustering.niter = 50  # Number of iterations for clustering\n",
    "    \n",
    "    # Convert remaining indices to the appropriate format\n",
    "    remaining_data = np.array([X_train_full_normalized[i] for i in remaining_indices]).astype('float32')\n",
    "    index_flat = faiss.IndexFlatL2(embedding_dim)  # Initialize FAISS index for clustering\n",
    "    clustering.train(remaining_data, index_flat)\n",
    "    \n",
    "    # Get cluster assignments\n",
    "    D, cluster_assignments = index_flat.search(remaining_data, 1)  \n",
    "    \n",
    "    # Convert FAISS centroids to numpy array\n",
    "    centroids = faiss.vector_to_array(clustering.centroids).reshape(num_clusters, embedding_dim)\n",
    "\n",
    "    # Select samples from each cluster\n",
    "    selected_indices = []\n",
    "    for cluster in range(num_clusters):\n",
    "        cluster_indices = [i for i, label in zip(remaining_indices, cluster_assignments) if label[0] == cluster]\n",
    "        if cluster_indices:\n",
    "            # Find the closest sample to the cluster center\n",
    "            cluster_center = centroids[cluster].reshape(1, -1)\n",
    "            distances, _ = index.search(cluster_center, len(cluster_indices))\n",
    "            closest_sample_index = cluster_indices[distances[0].argmin()]\n",
    "            selected_indices.append(closest_sample_index)\n",
    "\n",
    "    # Add selected samples to the training set\n",
    "    X_train = np.vstack((X_train, X_train_full_normalized[selected_indices]))\n",
    "    y_train = np.concatenate((y_train, np.array(y_train_full)[selected_indices]))\n",
    "\n",
    "    # Update remaining indices\n",
    "    remaining_indices = list(set(remaining_indices) - set(selected_indices))\n",
    "\n",
    "    # Update FAISS Index with new training data\n",
    "    index.reset()\n",
    "    index.add(X_train)\n",
    "\n",
    "    # Train the classifier on the updated training set\n",
    "    clf.fit(X_train, y_train)\n",
    "\n",
    "    # Evaluate the classifier on the test set after each iteration\n",
    "    y_pred = clf.predict(X_test_normalized)\n",
    "    print(f\"Iteration {iteration + 1}: Test Accuracy = {accuracy_score(y_test, y_pred):.4f}\")"
   ]
  }
 ],
 "metadata": {
  "kernelspec": {
   "display_name": "dataanalysisvisualizationfiles-qa5NmZKI-py3.10",
   "language": "python",
   "name": "python3"
  },
  "language_info": {
   "codemirror_mode": {
    "name": "ipython",
    "version": 3
   },
   "file_extension": ".py",
   "mimetype": "text/x-python",
   "name": "python",
   "nbconvert_exporter": "python",
   "pygments_lexer": "ipython3",
   "version": "3.10.14"
  }
 },
 "nbformat": 4,
 "nbformat_minor": 2
}
