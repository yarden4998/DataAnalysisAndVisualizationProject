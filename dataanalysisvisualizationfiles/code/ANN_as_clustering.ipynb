{
 "cells": [
  {
   "cell_type": "code",
   "execution_count": 31,
   "metadata": {},
   "outputs": [],
   "source": [
    "import faiss\n",
    "import numpy as np\n",
    "from sentence_transformers import SentenceTransformer\n",
    "from sklearn.metrics import accuracy_score,classification_report\n",
    "from sklearn.ensemble import RandomForestClassifier\n",
    "from sklearn.preprocessing import LabelEncoder, MultiLabelBinarizer\n",
    "from preprocess_data import preprocess_data\n",
    "from sklearn.model_selection import train_test_split\n",
    "from sklearn.preprocessing import normalize\n",
    "from sklearn.metrics.pairwise import cosine_distances"
   ]
  },
  {
   "cell_type": "code",
   "execution_count": 4,
   "metadata": {},
   "outputs": [],
   "source": [
    "# Load the data\n",
    "data = preprocess_data()\n",
    "\n",
    "data['num_genres'] = data['genre'].apply(len)\n",
    "data = data[data['num_genres'] == 1]\n",
    "\n",
    "descriptions = data['description_processed'].tolist()\n",
    "genres = data['genre'].tolist()"
   ]
  },
  {
   "cell_type": "code",
   "execution_count": 5,
   "metadata": {},
   "outputs": [
    {
     "name": "stderr",
     "output_type": "stream",
     "text": [
      "/home/student/.cache/pypoetry/virtualenvs/dataanalysisvisualizationfiles-qa5NmZKI-py3.10/lib/python3.10/site-packages/sklearn/preprocessing/_label.py:114: DataConversionWarning: A column-vector y was passed when a 1d array was expected. Please change the shape of y to (n_samples, ), for example using ravel().\n",
      "  y = column_or_1d(y, warn=True)\n",
      "/home/student/.cache/pypoetry/virtualenvs/dataanalysisvisualizationfiles-qa5NmZKI-py3.10/lib/python3.10/site-packages/transformers/tokenization_utils_base.py:1601: FutureWarning: `clean_up_tokenization_spaces` was not set. It will be set to `True` by default. This behavior will be depracted in transformers v4.45, and will be then set to `False` by default. For more details check this issue: https://github.com/huggingface/transformers/issues/31884\n",
      "  warnings.warn(\n"
     ]
    }
   ],
   "source": [
    "# Encode the genres as numerical labels\n",
    "label_encoder = LabelEncoder()\n",
    "y = label_encoder.fit_transform(genres)\n",
    "\n",
    "# Load a pre-trained sentence-transformer model to convert text to embeddings\n",
    "model = SentenceTransformer('bert-base-nli-mean-tokens')\n"
   ]
  },
  {
   "cell_type": "code",
   "execution_count": 33,
   "metadata": {},
   "outputs": [
    {
     "name": "stderr",
     "output_type": "stream",
     "text": [
      "Batches:   0%|          | 0/762 [00:00<?, ?it/s]"
     ]
    },
    {
     "name": "stderr",
     "output_type": "stream",
     "text": [
      "Batches: 100%|██████████| 762/762 [01:03<00:00, 12.05it/s]\n"
     ]
    }
   ],
   "source": [
    "# Convert descriptions to vector embeddings\n",
    "X = model.encode(descriptions, show_progress_bar=True)\n",
    "\n",
    "# Split the data into train and test sets\n",
    "X_train_full, X_test, y_train_full, y_test = train_test_split(X, y, test_size=0.2, random_state=42)\n",
    "\n",
    "# Normalize the embeddings for cosine similarity\n",
    "X_train_full_normalized = normalize(X_train_full, axis=1, norm='l2')\n",
    "X_test_normalized = normalize(X_test, axis=1, norm='l2')\n",
    "\n",
    "# Active Learning parameters\n",
    "initial_train_size = 50 \n",
    "iterations = 20\n",
    "sample_size = 1000\n",
    "\n",
    "#Selecting initial training set randomly\n",
    "np.random.seed(42)\n",
    "pool_indices = np.random.choice(len(X_train_full_normalized), initial_train_size, replace=False)\n",
    "X_train = X_train_full_normalized[pool_indices]\n",
    "y_train = np.array(y_train_full)[pool_indices]\n",
    "\n",
    "\n",
    "# Initialize the FAISS Index for Cosine Similarity\n",
    "faiss.omp_set_num_threads(12)\n",
    "embedding_dim = X_train_full_normalized.shape[1]\n",
    "index = faiss.IndexFlatIP(embedding_dim)  # Inner product index for cosine similarity\n",
    "index.add(X_train_full_normalized)  # Add all normalized vectors to the index\n",
    "\n",
    "# Remaining pool of indices\n",
    "remaining_indices = list(set(range(len(X_train_full_normalized))) - set(pool_indices))\n",
    "\n",
    "# Initialize the classifier\n",
    "clf = RandomForestClassifier(random_state=42)"
   ]
  },
  {
   "cell_type": "code",
   "execution_count": 34,
   "metadata": {},
   "outputs": [
    {
     "name": "stdout",
     "output_type": "stream",
     "text": [
      "Iteration 1: Test Accuracy = 0.5194\n",
      "Iteration 2: Test Accuracy = 0.5410\n",
      "Iteration 3: Test Accuracy = 0.5442\n",
      "Iteration 4: Test Accuracy = 0.5492\n",
      "Iteration 5: Test Accuracy = 0.5488\n",
      "Iteration 6: Test Accuracy = 0.5551\n",
      "Iteration 7: Test Accuracy = 0.5570\n",
      "Iteration 8: Test Accuracy = 0.5623\n",
      "Iteration 9: Test Accuracy = 0.5559\n",
      "Iteration 10: Test Accuracy = 0.5660\n",
      "Iteration 11: Test Accuracy = 0.5607\n",
      "Iteration 12: Test Accuracy = 0.5662\n",
      "Iteration 13: Test Accuracy = 0.5625\n",
      "Iteration 14: Test Accuracy = 0.5580\n",
      "Iteration 15: Test Accuracy = 0.5666\n",
      "Iteration 16: Test Accuracy = 0.5664\n",
      "Iteration 17: Test Accuracy = 0.5656\n",
      "Iteration 18: Test Accuracy = 0.5672\n",
      "Iteration 19: Test Accuracy = 0.5672\n",
      "Iteration 20: Test Accuracy = 0.5676\n"
     ]
    }
   ],
   "source": [
    "clf.fit(X_train, y_train)\n",
    "\n",
    "# Active Learning Loop\n",
    "for iteration in range(iterations):\n",
    "    # Define number of clusters\n",
    "    num_clusters = min(int(np.sqrt(len(remaining_indices))), len(remaining_indices))\n",
    "    \n",
    "    # Initialize FAISS clustering\n",
    "    clustering = faiss.Clustering(embedding_dim, num_clusters)\n",
    "    clustering.verbose = False\n",
    "    clustering.niter = 50  # Number of iterations for clustering\n",
    "    \n",
    "    # Convert remaining indices to the appropriate format\n",
    "    remaining_data = np.array([X_train_full_normalized[i] for i in remaining_indices]).astype('float32')\n",
    "    index_flat = faiss.IndexFlatL2(embedding_dim)  # Initialize FAISS index for clustering\n",
    "    clustering.train(remaining_data, index_flat)\n",
    "    \n",
    "    # Get cluster assignments\n",
    "    D, cluster_assignments = index_flat.search(remaining_data, 1)  \n",
    "    \n",
    "    # Convert FAISS centroids to numpy array\n",
    "    centroids = faiss.vector_to_array(clustering.centroids).reshape(num_clusters, embedding_dim)\n",
    "\n",
    "    # Select samples from each cluster using a hybrid strategy\n",
    "    selected_indices = []\n",
    "    for cluster in range(num_clusters):\n",
    "        cluster_indices = [i for i, label in zip(remaining_indices, cluster_assignments) if label[0] == cluster]\n",
    "        if cluster_indices:\n",
    "            # Find the closest sample to the cluster center\n",
    "            cluster_center = centroids[cluster].reshape(1, -1)\n",
    "            distances, _ = index.search(cluster_center, len(cluster_indices))\n",
    "            closest_sample_index = cluster_indices[distances[0].argmin()]\n",
    "            selected_indices.append(closest_sample_index)\n",
    "\n",
    "            # Diversity Sampling: Select most diverse samples in the cluster\n",
    "            cluster_data = X_train_full_normalized[cluster_indices]\n",
    "            pairwise_distances = cosine_distances(cluster_data)\n",
    "            diversity_scores = pairwise_distances.mean(axis=1)\n",
    "            most_diverse_index = cluster_indices[np.argmax(diversity_scores)]\n",
    "            selected_indices.append(most_diverse_index)\n",
    "\n",
    "    # Uncertainty sampling\n",
    "    if len(remaining_indices) > 0:\n",
    "        # Predict probabilities for remaining samples\n",
    "        probs = clf.predict_proba(X_train_full_normalized[remaining_indices])\n",
    "        # Calculate uncertainty as 1 - max probability\n",
    "        uncertainty = 1 - np.max(probs, axis=1)\n",
    "        uncertain_indices = np.argsort(-uncertainty)[:len(selected_indices)]\n",
    "\n",
    "        # Add uncertain samples to selected indices\n",
    "        selected_indices.extend([remaining_indices[i] for i in uncertain_indices])\n",
    "\n",
    "    # Add selected samples to the training set\n",
    "    X_train = np.vstack((X_train, X_train_full_normalized[selected_indices]))\n",
    "    y_train = np.concatenate((y_train, np.array(y_train_full)[selected_indices]))\n",
    "\n",
    "    # Update remaining indices\n",
    "    remaining_indices = list(set(remaining_indices) - set(selected_indices))\n",
    "\n",
    "    # Update FAISS Index with new training data\n",
    "    index.add(X_train_full_normalized[selected_indices])\n",
    "\n",
    "\n",
    "    # Train the classifier on the updated training set\n",
    "    clf.fit(X_train, y_train)\n",
    "\n",
    "    # Evaluate the classifier on the test set after each iteration\n",
    "    y_pred = clf.predict(X_test_normalized)\n",
    "    print(f\"Iteration {iteration + 1}: Test Accuracy = {accuracy_score(y_test, y_pred):.4f}\")\n"
   ]
  },
  {
   "cell_type": "code",
   "execution_count": 35,
   "metadata": {},
   "outputs": [
    {
     "name": "stdout",
     "output_type": "stream",
     "text": [
      "              precision    recall  f1-score   support\n",
      "\n",
      "           0       0.39      0.08      0.14       134\n",
      "           1       0.00      0.00      0.00        47\n",
      "           2       0.00      0.00      0.00        19\n",
      "           3       0.00      0.00      0.00        10\n",
      "           4       0.56      0.36      0.44      1371\n",
      "           5       0.00      0.00      0.00        35\n",
      "           6       0.56      0.90      0.69      2233\n",
      "           7       0.00      0.00      0.00        53\n",
      "           8       0.00      0.00      0.00        15\n",
      "           9       0.00      0.00      0.00         5\n",
      "          10       0.70      0.46      0.55       406\n",
      "          11       0.00      0.00      0.00         5\n",
      "          12       0.00      0.00      0.00        16\n",
      "          13       0.00      0.00      0.00        23\n",
      "          14       0.00      0.00      0.00        80\n",
      "          15       0.89      0.31      0.46        55\n",
      "          16       0.00      0.00      0.00         3\n",
      "          17       0.14      0.01      0.02       225\n",
      "          18       0.00      0.00      0.00         8\n",
      "          19       0.87      0.42      0.57       128\n",
      "\n",
      "    accuracy                           0.57      4871\n",
      "   macro avg       0.21      0.13      0.14      4871\n",
      "weighted avg       0.52      0.57      0.51      4871\n",
      "\n"
     ]
    },
    {
     "name": "stderr",
     "output_type": "stream",
     "text": [
      "/home/student/.cache/pypoetry/virtualenvs/dataanalysisvisualizationfiles-qa5NmZKI-py3.10/lib/python3.10/site-packages/sklearn/metrics/_classification.py:1531: UndefinedMetricWarning: Precision is ill-defined and being set to 0.0 in labels with no predicted samples. Use `zero_division` parameter to control this behavior.\n",
      "  _warn_prf(average, modifier, f\"{metric.capitalize()} is\", len(result))\n",
      "/home/student/.cache/pypoetry/virtualenvs/dataanalysisvisualizationfiles-qa5NmZKI-py3.10/lib/python3.10/site-packages/sklearn/metrics/_classification.py:1531: UndefinedMetricWarning: Precision is ill-defined and being set to 0.0 in labels with no predicted samples. Use `zero_division` parameter to control this behavior.\n",
      "  _warn_prf(average, modifier, f\"{metric.capitalize()} is\", len(result))\n",
      "/home/student/.cache/pypoetry/virtualenvs/dataanalysisvisualizationfiles-qa5NmZKI-py3.10/lib/python3.10/site-packages/sklearn/metrics/_classification.py:1531: UndefinedMetricWarning: Precision is ill-defined and being set to 0.0 in labels with no predicted samples. Use `zero_division` parameter to control this behavior.\n",
      "  _warn_prf(average, modifier, f\"{metric.capitalize()} is\", len(result))\n"
     ]
    }
   ],
   "source": [
    "print(classification_report(y_test, y_pred))"
   ]
  }
 ],
 "metadata": {
  "kernelspec": {
   "display_name": "dataanalysisvisualizationfiles-qa5NmZKI-py3.10",
   "language": "python",
   "name": "python3"
  },
  "language_info": {
   "codemirror_mode": {
    "name": "ipython",
    "version": 3
   },
   "file_extension": ".py",
   "mimetype": "text/x-python",
   "name": "python",
   "nbconvert_exporter": "python",
   "pygments_lexer": "ipython3",
   "version": "3.10.14"
  }
 },
 "nbformat": 4,
 "nbformat_minor": 2
}
