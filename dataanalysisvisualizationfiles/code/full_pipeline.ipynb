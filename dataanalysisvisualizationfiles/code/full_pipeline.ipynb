{
 "cells": [
  {
   "cell_type": "code",
   "execution_count": 1,
   "metadata": {},
   "outputs": [
    {
     "name": "stderr",
     "output_type": "stream",
     "text": [
      "c:\\Users\\Yarden\\AppData\\Local\\pypoetry\\Cache\\virtualenvs\\dataanalysisvisualizationfiles-2DKRXcGy-py3.11\\Lib\\site-packages\\sentence_transformers\\cross_encoder\\CrossEncoder.py:11: TqdmWarning: IProgress not found. Please update jupyter and ipywidgets. See https://ipywidgets.readthedocs.io/en/stable/user_install.html\n",
      "  from tqdm.autonotebook import tqdm, trange\n",
      "[nltk_data] Downloading package stopwords to\n",
      "[nltk_data]     C:\\Users\\Yarden\\AppData\\Roaming\\nltk_data...\n",
      "[nltk_data]   Package stopwords is already up-to-date!\n"
     ]
    },
    {
     "name": "stdout",
     "output_type": "stream",
     "text": [
      "   index                              description_processed  \\\n",
      "0      0   true story notorious australian outlaw ned kelly   \n",
      "1      1  two men high rank wooing beautiful famous eque...   \n",
      "2      2  fabled queen egypt affair roman general marc a...   \n",
      "3      3  loosely adapted dante divine comedy inspired i...   \n",
      "4      4  account life jesus christ based books new test...   \n",
      "\n",
      "                         genre  \n",
      "0    [Biography, Crime, Drama]  \n",
      "1                      [Drama]  \n",
      "2             [Drama, History]  \n",
      "3  [Adventure, Drama, Fantasy]  \n",
      "4           [Biography, Drama]  \n",
      "(78843, 3)\n",
      "Index(['index', 'description_processed', 'genre'], dtype='object')\n"
     ]
    }
   ],
   "source": [
    "import faiss\n",
    "import numpy as np\n",
    "from sentence_transformers import SentenceTransformer\n",
    "from sklearn.metrics import accuracy_score\n",
    "from sklearn.ensemble import RandomForestClassifier\n",
    "from sklearn.multioutput import MultiOutputClassifier\n",
    "from sklearn.preprocessing import LabelEncoder, MultiLabelBinarizer\n",
    "from preprocess_data import preprocess_data\n",
    "# Precompute the pairwise distance matrix (upper triangular)\n",
    "from scipy.spatial.distance import pdist, squareform"
   ]
  },
  {
   "cell_type": "code",
   "execution_count": 2,
   "metadata": {},
   "outputs": [],
   "source": [
    "# Load your data\n",
    "data = preprocess_data()\n",
    "\n",
    "# Assuming data is a pandas DataFrame with 'description_processed' and 'genre' columns\n",
    "descriptions = data['description_processed'].tolist()\n",
    "genres = data['genre'].tolist()"
   ]
  },
  {
   "cell_type": "code",
   "execution_count": 3,
   "metadata": {},
   "outputs": [
    {
     "name": "stderr",
     "output_type": "stream",
     "text": [
      "c:\\Users\\Yarden\\AppData\\Local\\pypoetry\\Cache\\virtualenvs\\dataanalysisvisualizationfiles-2DKRXcGy-py3.11\\Lib\\site-packages\\transformers\\tokenization_utils_base.py:1601: FutureWarning: `clean_up_tokenization_spaces` was not set. It will be set to `True` by default. This behavior will be depracted in transformers v4.45, and will be then set to `False` by default. For more details check this issue: https://github.com/huggingface/transformers/issues/31884\n",
      "  warnings.warn(\n",
      "Batches: 100%|██████████| 2464/2464 [12:37<00:00,  3.25it/s]\n"
     ]
    }
   ],
   "source": [
    "# Encode the genres as numerical labels\n",
    "mlb = MultiLabelBinarizer()\n",
    "y = mlb.fit_transform(genres)\n",
    "\n",
    "# Load a pre-trained sentence-transformer model to convert text to embeddings\n",
    "model = SentenceTransformer('paraphrase-MiniLM-L6-v2')\n",
    "\n",
    "# Convert descriptions to vector embeddings\n",
    "X = model.encode(descriptions, show_progress_bar=True)\n",
    "\n",
    "# Initialize FAISS Index for ANN search\n",
    "embedding_dim = X.shape[1]\n",
    "index = faiss.IndexFlatL2(embedding_dim)\n",
    "index.add(X)  # Adding all vectors to the index\n",
    "\n",
    "# Active Learning parameters\n",
    "initial_train_size = 50  # Initial training set size\n",
    "iterations = 10  # Number of iterations for active learning\n",
    "sample_size = 10  # Samples to add per iteration\n",
    "\n",
    "# Start by selecting the furthest points from each other for initial training\n",
    "np.random.seed(42)\n",
    "initial_indices = np.random.choice(len(X), initial_train_size, replace=False)\n",
    "X_train = X[initial_indices]\n",
    "y_train = y[initial_indices]\n",
    "\n",
    "# Remaining pool of indices\n",
    "remaining_indices = list(set(range(len(X))) - set(initial_indices))"
   ]
  },
  {
   "cell_type": "code",
   "execution_count": 4,
   "metadata": {},
   "outputs": [
    {
     "ename": "MemoryError",
     "evalue": "Unable to allocate 23.2 GiB for an array with shape (78843, 78843) and data type float32",
     "output_type": "error",
     "traceback": [
      "\u001b[1;31m---------------------------------------------------------------------------\u001b[0m",
      "\u001b[1;31mMemoryError\u001b[0m                               Traceback (most recent call last)",
      "Cell \u001b[1;32mIn[4], line 3\u001b[0m\n\u001b[0;32m      1\u001b[0m \u001b[38;5;66;03m# Precompute distances from the current training set to all other points in the dataset\u001b[39;00m\n\u001b[0;32m      2\u001b[0m \u001b[38;5;66;03m# Note: FAISS search returns distances of `k` closest points. We set `k = len(X)` to cover all points.\u001b[39;00m\n\u001b[1;32m----> 3\u001b[0m D_all, I_all \u001b[38;5;241m=\u001b[39m \u001b[43mindex\u001b[49m\u001b[38;5;241;43m.\u001b[39;49m\u001b[43msearch\u001b[49m\u001b[43m(\u001b[49m\u001b[43mX\u001b[49m\u001b[43m,\u001b[49m\u001b[43m \u001b[49m\u001b[38;5;28;43mlen\u001b[39;49m\u001b[43m(\u001b[49m\u001b[43mX\u001b[49m\u001b[43m)\u001b[49m\u001b[43m)\u001b[49m\n",
      "File \u001b[1;32mc:\\Users\\Yarden\\AppData\\Local\\pypoetry\\Cache\\virtualenvs\\dataanalysisvisualizationfiles-2DKRXcGy-py3.11\\Lib\\site-packages\\faiss\\class_wrappers.py:334\u001b[0m, in \u001b[0;36mhandle_Index.<locals>.replacement_search\u001b[1;34m(self, x, k, params, D, I)\u001b[0m\n\u001b[0;32m    331\u001b[0m \u001b[38;5;28;01massert\u001b[39;00m k \u001b[38;5;241m>\u001b[39m \u001b[38;5;241m0\u001b[39m\n\u001b[0;32m    333\u001b[0m \u001b[38;5;28;01mif\u001b[39;00m D \u001b[38;5;129;01mis\u001b[39;00m \u001b[38;5;28;01mNone\u001b[39;00m:\n\u001b[1;32m--> 334\u001b[0m     D \u001b[38;5;241m=\u001b[39m \u001b[43mnp\u001b[49m\u001b[38;5;241;43m.\u001b[39;49m\u001b[43mempty\u001b[49m\u001b[43m(\u001b[49m\u001b[43m(\u001b[49m\u001b[43mn\u001b[49m\u001b[43m,\u001b[49m\u001b[43m \u001b[49m\u001b[43mk\u001b[49m\u001b[43m)\u001b[49m\u001b[43m,\u001b[49m\u001b[43m \u001b[49m\u001b[43mdtype\u001b[49m\u001b[38;5;241;43m=\u001b[39;49m\u001b[43mnp\u001b[49m\u001b[38;5;241;43m.\u001b[39;49m\u001b[43mfloat32\u001b[49m\u001b[43m)\u001b[49m\n\u001b[0;32m    335\u001b[0m \u001b[38;5;28;01melse\u001b[39;00m:\n\u001b[0;32m    336\u001b[0m     \u001b[38;5;28;01massert\u001b[39;00m D\u001b[38;5;241m.\u001b[39mshape \u001b[38;5;241m==\u001b[39m (n, k)\n",
      "\u001b[1;31mMemoryError\u001b[0m: Unable to allocate 23.2 GiB for an array with shape (78843, 78843) and data type float32"
     ]
    }
   ],
   "source": [
    "# Precompute distances from the current training set to all other points in the dataset\n",
    "# Note: FAISS search returns distances of `k` closest points. We set `k = len(X)` to cover all points.\n",
    "D_all, I_all = index.search(X, len(X))\n"
   ]
  },
  {
   "cell_type": "code",
   "execution_count": null,
   "metadata": {},
   "outputs": [],
   "source": [
    "# Initialize classifier\n",
    "clf = MultiOutputClassifier(RandomForestClassifier())\n",
    "\n",
    "# Active Learning Loop using precomputed FAISS distances\n",
    "for iteration in range(iterations):\n",
    "    clf.fit(X_train, y_train)\n",
    "\n",
    "    # Evaluate classifier on the entire dataset\n",
    "    y_pred = clf.predict(X)\n",
    "    print(f\"Iteration {iteration + 1}: Accuracy = {accuracy_score(y, y_pred):.4f}\")\n",
    "\n",
    "    # Compute mean distances of all remaining points to the current training set using the precomputed FAISS results\n",
    "    avg_distances = D_all[initial_indices, :].mean(axis=0)\n",
    "    \n",
    "    # Select the furthest points from the current training set\n",
    "    furthest_indices = np.argsort(avg_distances)[-sample_size:]\n",
    "    \n",
    "    # Get the corresponding indices from the pool of remaining indices\n",
    "    selected_indices = [remaining_indices[i] for i in furthest_indices]\n",
    "    \n",
    "    # Add the selected samples to the training set\n",
    "    X_train = np.vstack([X_train, X[selected_indices]])\n",
    "    y_train = np.concatenate([y_train, y[selected_indices]], axis=0)\n",
    "\n",
    "    # Remove the selected indices from the pool\n",
    "    remaining_indices = list(set(remaining_indices) - set(selected_indices))\n",
    "    \n",
    "    # Update initial_indices to include the new training samples\n",
    "    initial_indices = np.concatenate([initial_indices, selected_indices])\n",
    "\n",
    "    # Stop if there are not enough remaining samples or if the max training set size is reached\n",
    "    if len(remaining_indices) == 0 or len(remaining_indices) < sample_size or len(X_train) >= 600:\n",
    "        break\n",
    "\n",
    "# Final evaluation on the entire dataset\n",
    "y_pred_final = clf.predict(X)\n",
    "final_accuracy = accuracy_score(y, y_pred_final)\n",
    "print(f\"Final Accuracy: {final_accuracy:.4f}\")"
   ]
  },
  {
   "cell_type": "code",
   "execution_count": 5,
   "metadata": {},
   "outputs": [
    {
     "ename": "MemoryError",
     "evalue": "Unable to allocate 23.2 GiB for an array with shape (3108069903,) and data type float64",
     "output_type": "error",
     "traceback": [
      "\u001b[1;31m---------------------------------------------------------------------------\u001b[0m",
      "\u001b[1;31mMemoryError\u001b[0m                               Traceback (most recent call last)",
      "Cell \u001b[1;32mIn[5], line 2\u001b[0m\n\u001b[0;32m      1\u001b[0m \u001b[38;5;66;03m# Compute pairwise distances between all vectors\u001b[39;00m\n\u001b[1;32m----> 2\u001b[0m distance_matrix \u001b[38;5;241m=\u001b[39m squareform(\u001b[43mpdist\u001b[49m\u001b[43m(\u001b[49m\u001b[43mX\u001b[49m\u001b[43m,\u001b[49m\u001b[43m \u001b[49m\u001b[43mmetric\u001b[49m\u001b[38;5;241;43m=\u001b[39;49m\u001b[38;5;124;43m'\u001b[39;49m\u001b[38;5;124;43meuclidean\u001b[39;49m\u001b[38;5;124;43m'\u001b[39;49m\u001b[43m)\u001b[49m)\n",
      "File \u001b[1;32mc:\\Users\\Yarden\\AppData\\Local\\pypoetry\\Cache\\virtualenvs\\dataanalysisvisualizationfiles-2DKRXcGy-py3.11\\Lib\\site-packages\\scipy\\spatial\\distance.py:2180\u001b[0m, in \u001b[0;36mpdist\u001b[1;34m(X, metric, out, **kwargs)\u001b[0m\n\u001b[0;32m   2178\u001b[0m \u001b[38;5;28;01mif\u001b[39;00m metric_info \u001b[38;5;129;01mis\u001b[39;00m \u001b[38;5;129;01mnot\u001b[39;00m \u001b[38;5;28;01mNone\u001b[39;00m:\n\u001b[0;32m   2179\u001b[0m     pdist_fn \u001b[38;5;241m=\u001b[39m metric_info\u001b[38;5;241m.\u001b[39mpdist_func\n\u001b[1;32m-> 2180\u001b[0m     \u001b[38;5;28;01mreturn\u001b[39;00m \u001b[43mpdist_fn\u001b[49m\u001b[43m(\u001b[49m\u001b[43mX\u001b[49m\u001b[43m,\u001b[49m\u001b[43m \u001b[49m\u001b[43mout\u001b[49m\u001b[38;5;241;43m=\u001b[39;49m\u001b[43mout\u001b[49m\u001b[43m,\u001b[49m\u001b[43m \u001b[49m\u001b[38;5;241;43m*\u001b[39;49m\u001b[38;5;241;43m*\u001b[39;49m\u001b[43mkwargs\u001b[49m\u001b[43m)\u001b[49m\n\u001b[0;32m   2181\u001b[0m \u001b[38;5;28;01melif\u001b[39;00m mstr\u001b[38;5;241m.\u001b[39mstartswith(\u001b[38;5;124m\"\u001b[39m\u001b[38;5;124mtest_\u001b[39m\u001b[38;5;124m\"\u001b[39m):\n\u001b[0;32m   2182\u001b[0m     metric_info \u001b[38;5;241m=\u001b[39m _TEST_METRICS\u001b[38;5;241m.\u001b[39mget(mstr, \u001b[38;5;28;01mNone\u001b[39;00m)\n",
      "\u001b[1;31mMemoryError\u001b[0m: Unable to allocate 23.2 GiB for an array with shape (3108069903,) and data type float64"
     ]
    }
   ],
   "source": [
    "# Compute pairwise distances between all vectors\n",
    "distance_matrix = squareform(pdist(X, metric='euclidean'))"
   ]
  },
  {
   "cell_type": "code",
   "execution_count": null,
   "metadata": {},
   "outputs": [],
   "source": [
    "clf = MultiOutputClassifier(RandomForestClassifier())\n",
    "\n",
    "# Active Learning Loop with precomputed distances\n",
    "for iteration in range(iterations):\n",
    "    clf.fit(X_train, y_train)\n",
    "\n",
    "    y_pred = clf.predict(X)\n",
    "    print(f\"Iteration {iteration + 1}: Accuracy = {accuracy_score(y, y_pred):.4f}\")\n",
    "    \n",
    "    # Compute distances between the current training set and the rest of the dataset using precomputed matrix\n",
    "    D = distance_matrix[initial_indices, :]  # Use the indices from the current training set\n",
    "    \n",
    "    # Select the furthest points from the training set\n",
    "    furthest_indices = np.argsort(D.mean(axis=0))[-sample_size:]\n",
    "    \n",
    "    # Add the selected samples to the training set\n",
    "    X_train = np.vstack([X_train, X[furthest_indices]])\n",
    "    y_train = np.concatenate([y_train, y[furthest_indices]], axis=0)\n",
    "    \n",
    "    # Remove the selected indices from the pool\n",
    "    remaining_indices = list(set(remaining_indices) - set(furthest_indices))\n",
    "    \n",
    "    if len(remaining_indices) == 0 or len(remaining_indices) < sample_size or len(X_train) >= 600:\n",
    "        break\n"
   ]
  },
  {
   "cell_type": "code",
   "execution_count": null,
   "metadata": {},
   "outputs": [],
   "source": [
    "# Final evaluation\n",
    "y_pred_final = clf.predict(X)\n",
    "final_accuracy = accuracy_score(y, y_pred_final)\n",
    "print(f\"Final Accuracy: {final_accuracy:.4f}\")"
   ]
  }
 ],
 "metadata": {
  "kernelspec": {
   "display_name": "dataanalysisvisualizationfiles-2DKRXcGy-py3.11",
   "language": "python",
   "name": "python3"
  },
  "language_info": {
   "codemirror_mode": {
    "name": "ipython",
    "version": 3
   },
   "file_extension": ".py",
   "mimetype": "text/x-python",
   "name": "python",
   "nbconvert_exporter": "python",
   "pygments_lexer": "ipython3",
   "version": "3.11.8"
  }
 },
 "nbformat": 4,
 "nbformat_minor": 2
}
