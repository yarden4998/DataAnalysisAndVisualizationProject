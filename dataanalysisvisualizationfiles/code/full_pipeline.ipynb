{
 "cells": [
  {
   "cell_type": "code",
   "execution_count": 1,
   "metadata": {},
   "outputs": [
    {
     "name": "stderr",
     "output_type": "stream",
     "text": [
      "/home/student/.cache/pypoetry/virtualenvs/dataanalysisvisualizationfiles-J5HcN3vl-py3.10/lib/python3.10/site-packages/sentence_transformers/cross_encoder/CrossEncoder.py:11: TqdmWarning: IProgress not found. Please update jupyter and ipywidgets. See https://ipywidgets.readthedocs.io/en/stable/user_install.html\n",
      "  from tqdm.autonotebook import tqdm, trange\n",
      "2024-08-17 21:19:47.594231: E external/local_xla/xla/stream_executor/cuda/cuda_dnn.cc:9261] Unable to register cuDNN factory: Attempting to register factory for plugin cuDNN when one has already been registered\n",
      "2024-08-17 21:19:47.594342: E external/local_xla/xla/stream_executor/cuda/cuda_fft.cc:607] Unable to register cuFFT factory: Attempting to register factory for plugin cuFFT when one has already been registered\n",
      "2024-08-17 21:19:47.658994: E external/local_xla/xla/stream_executor/cuda/cuda_blas.cc:1515] Unable to register cuBLAS factory: Attempting to register factory for plugin cuBLAS when one has already been registered\n",
      "2024-08-17 21:19:47.811941: I tensorflow/core/platform/cpu_feature_guard.cc:182] This TensorFlow binary is optimized to use available CPU instructions in performance-critical operations.\n",
      "To enable the following instructions: AVX2 FMA, in other operations, rebuild TensorFlow with the appropriate compiler flags.\n",
      "2024-08-17 21:19:49.111226: W tensorflow/compiler/tf2tensorrt/utils/py_utils.cc:38] TF-TRT Warning: Could not find TensorRT\n",
      "[nltk_data] Downloading package stopwords to\n",
      "[nltk_data]     /home/student/nltk_data...\n",
      "[nltk_data]   Package stopwords is already up-to-date!\n"
     ]
    },
    {
     "name": "stdout",
     "output_type": "stream",
     "text": [
      "   index                              description_processed  \\\n",
      "0      0   true story notorious australian outlaw ned kelly   \n",
      "1      1  two men high rank wooing beautiful famous eque...   \n",
      "2      2  fabled queen egypt affair roman general marc a...   \n",
      "3      3  loosely adapted dante divine comedy inspired i...   \n",
      "4      4  account life jesus christ based books new test...   \n",
      "\n",
      "                         genre  \n",
      "0    [Biography, Crime, Drama]  \n",
      "1                      [Drama]  \n",
      "2             [Drama, History]  \n",
      "3  [Adventure, Drama, Fantasy]  \n",
      "4           [Biography, Drama]  \n",
      "(78843, 3)\n",
      "Index(['index', 'description_processed', 'genre'], dtype='object')\n"
     ]
    }
   ],
   "source": [
    "import faiss\n",
    "import numpy as np\n",
    "from sentence_transformers import SentenceTransformer\n",
    "from sklearn.metrics import accuracy_score\n",
    "from sklearn.ensemble import RandomForestClassifier\n",
    "from sklearn.multioutput import MultiOutputClassifier\n",
    "from sklearn.preprocessing import LabelEncoder, MultiLabelBinarizer\n",
    "from preprocess_data import preprocess_data\n",
    "# Precompute the pairwise distance matrix (upper triangular)\n",
    "from scipy.spatial.distance import pdist, squareform\n"
   ]
  },
  {
   "cell_type": "code",
   "execution_count": 2,
   "metadata": {},
   "outputs": [],
   "source": [
    "# Load your data\n",
    "data = preprocess_data()\n",
    "\n",
    "# Assuming data is a pandas DataFrame with 'description_processed' and 'genre' columns\n",
    "descriptions = data['description_processed'].tolist()\n",
    "genres = data['genre'].tolist()"
   ]
  },
  {
   "cell_type": "code",
   "execution_count": 3,
   "metadata": {},
   "outputs": [
    {
     "name": "stderr",
     "output_type": "stream",
     "text": [
      "/home/student/.cache/pypoetry/virtualenvs/dataanalysisvisualizationfiles-J5HcN3vl-py3.10/lib/python3.10/site-packages/transformers/tokenization_utils_base.py:1601: FutureWarning: `clean_up_tokenization_spaces` was not set. It will be set to `True` by default. This behavior will be depracted in transformers v4.45, and will be then set to `False` by default. For more details check this issue: https://github.com/huggingface/transformers/issues/31884\n",
      "  warnings.warn(\n",
      "Batches: 100%|██████████| 2464/2464 [00:35<00:00, 68.67it/s] \n"
     ]
    }
   ],
   "source": [
    "# Encode the genres as numerical labels\n",
    "mlb = MultiLabelBinarizer()\n",
    "y = mlb.fit_transform(genres)\n",
    "\n",
    "# Load a pre-trained sentence-transformer model to convert text to embeddings\n",
    "model = SentenceTransformer('paraphrase-MiniLM-L6-v2')\n",
    "\n",
    "# Convert descriptions to vector embeddings\n",
    "X = model.encode(descriptions, show_progress_bar=True)\n",
    "\n",
    "# Initialize FAISS Index for ANN search\n",
    "embedding_dim = X.shape[1]\n",
    "index = faiss.IndexFlatL2(embedding_dim)\n",
    "index.add(X)  # Adding all vectors to the index\n",
    "\n",
    "# Active Learning parameters\n",
    "initial_train_size = 50  # Initial training set size\n",
    "iterations = 100  # Number of iterations for active learning\n",
    "sample_size = 1000  # Samples to add per iteration\n",
    "\n",
    "# Start by selecting the furthest points from each other for initial training\n",
    "np.random.seed(42)\n",
    "initial_indices = np.random.choice(len(X), initial_train_size, replace=False)\n",
    "X_train = X[initial_indices]\n",
    "y_train = y[initial_indices]\n",
    "\n",
    "# Remaining pool of indices\n",
    "remaining_indices = list(set(range(len(X))) - set(initial_indices))"
   ]
  },
  {
   "cell_type": "code",
   "execution_count": 4,
   "metadata": {},
   "outputs": [],
   "source": [
    "# Precompute distances from the current training set to all other points in the dataset\n",
    "# Note: FAISS search returns distances of `k` closest points. We set `k = len(X)` to cover all points.\n",
    "D_all, I_all = index.search(X, len(X))"
   ]
  },
  {
   "cell_type": "code",
   "execution_count": 5,
   "metadata": {},
   "outputs": [
    {
     "name": "stdout",
     "output_type": "stream",
     "text": [
      "Iteration 1: Accuracy = 0.1269\n",
      "Iteration 2: Accuracy = 0.1155\n",
      "Iteration 3: Accuracy = 0.1347\n",
      "Iteration 4: Accuracy = 0.1501\n",
      "Iteration 5: Accuracy = 0.1625\n",
      "Iteration 6: Accuracy = 0.1753\n",
      "Iteration 7: Accuracy = 0.1880\n",
      "Iteration 8: Accuracy = 0.1987\n",
      "Iteration 9: Accuracy = 0.2121\n",
      "Iteration 10: Accuracy = 0.2236\n",
      "Iteration 11: Accuracy = 0.2362\n",
      "Iteration 12: Accuracy = 0.2471\n",
      "Iteration 13: Accuracy = 0.2592\n",
      "Iteration 14: Accuracy = 0.2715\n",
      "Iteration 15: Accuracy = 0.2821\n",
      "Iteration 16: Accuracy = 0.2940\n",
      "Iteration 17: Accuracy = 0.3060\n"
     ]
    }
   ],
   "source": [
    "# Initialize classifier\n",
    "clf = MultiOutputClassifier(RandomForestClassifier())\n",
    "\n",
    "# Active Learning Loop using precomputed FAISS distances\n",
    "for iteration in range(iterations):\n",
    "    clf.fit(X_train, y_train)\n",
    "\n",
    "    # Evaluate classifier on the entire dataset\n",
    "    y_pred = clf.predict(X)\n",
    "    print(f\"Iteration {iteration + 1}: Accuracy = {accuracy_score(y, y_pred):.4f}\")\n",
    "\n",
    "    # Compute mean distances of all remaining points to the current training set using precomputed FAISS results\n",
    "    avg_distances = D_all[initial_indices, :].mean(axis=0)\n",
    "\n",
    "    # Get the valid indices from remaining_indices, and find their furthest points\n",
    "    valid_avg_distances = np.array([avg_distances[i] for i in remaining_indices])\n",
    "\n",
    "    # Select the furthest points from the current training set based on valid remaining points\n",
    "    furthest_indices_within_remaining = np.argsort(valid_avg_distances)[-sample_size:]\n",
    "    \n",
    "    # Map these furthest indices back to the actual dataset indices\n",
    "    selected_indices = [remaining_indices[i] for i in furthest_indices_within_remaining]\n",
    "    \n",
    "    # Add the selected samples to the training set\n",
    "    X_train = np.vstack([X_train, X[selected_indices]])\n",
    "    y_train = np.concatenate([y_train, y[selected_indices]], axis=0)\n",
    "\n",
    "    # Remove the selected indices from the pool\n",
    "    remaining_indices = list(set(remaining_indices) - set(selected_indices))\n",
    "    \n",
    "    # Update initial_indices to include the new training samples\n",
    "    initial_indices = np.concatenate([initial_indices, selected_indices])\n",
    "\n",
    "    # Stop if there are not enough remaining samples or if the max training set size is reached\n",
    "    if len(remaining_indices) == 0 or len(remaining_indices) < sample_size or len(X_train) >= 60000:\n",
    "        break\n",
    "\n",
    "# Final evaluation on the entire dataset\n",
    "y_pred_final = clf.predict(X)\n",
    "final_accuracy = accuracy_score(y, y_pred_final)\n",
    "print(f\"Final Accuracy: {final_accuracy:.4f}\")"
   ]
  },
  {
   "cell_type": "code",
   "execution_count": null,
   "metadata": {},
   "outputs": [],
   "source": [
    "from sklearn.metrics import classification_report\n",
    "\n",
    "\n",
    "print(classification_report(y, y_pred_final, target_names=mlb.classes_))"
   ]
  },
  {
   "cell_type": "code",
   "execution_count": null,
   "metadata": {},
   "outputs": [],
   "source": [
    "import numpy as np\n",
    "from sklearn.multioutput import MultiOutputClassifier\n",
    "from sklearn.ensemble import RandomForestClassifier\n",
    "from sklearn.metrics import accuracy_score\n",
    "\n",
    "# Initialize classifier\n",
    "clf = MultiOutputClassifier(RandomForestClassifier())\n",
    "\n",
    "# Active Learning Loop with Random Sampling\n",
    "for iteration in range(iterations):\n",
    "    # Train the classifier\n",
    "    clf.fit(X_train, y_train)\n",
    "\n",
    "    # Evaluate the classifier on the entire dataset\n",
    "    y_pred = clf.predict(X)\n",
    "    print(f\"Iteration {iteration + 1}: Accuracy = {accuracy_score(y, y_pred):.4f}\")\n",
    "\n",
    "    # Randomly select points from the remaining pool\n",
    "    sample_size = min(sample_size, len(remaining_indices))\n",
    "    selected_indices = np.random.choice(remaining_indices, size=sample_size, replace=False)\n",
    "\n",
    "    # Add the selected samples to the training set\n",
    "    X_train = np.vstack([X_train, X[selected_indices]])\n",
    "    y_train = np.concatenate([y_train, y[selected_indices]], axis=0)\n",
    "\n",
    "    # Remove the selected indices from the pool\n",
    "    remaining_indices = list(set(remaining_indices) - set(selected_indices))\n",
    "\n",
    "    # Stop if there are not enough remaining samples or if the max training set size is reached\n",
    "    if len(remaining_indices) == 0 or len(X_train) >= 60000:\n",
    "        break\n",
    "\n",
    "# Final evaluation on the entire dataset\n",
    "y_pred_final = clf.predict(X)\n",
    "final_accuracy = accuracy_score(y, y_pred_final)\n",
    "print(f\"Final Accuracy: {final_accuracy:.4f}\")\n"
   ]
  },
  {
   "cell_type": "code",
   "execution_count": null,
   "metadata": {},
   "outputs": [],
   "source": [
    "from sklearn.metrics import classification_report\n",
    "\n",
    "\n",
    "print(classification_report(y, y_pred_final, target_names=mlb.classes_))"
   ]
  },
  {
   "cell_type": "code",
   "execution_count": null,
   "metadata": {},
   "outputs": [],
   "source": []
  },
  {
   "cell_type": "code",
   "execution_count": null,
   "metadata": {},
   "outputs": [],
   "source": []
  },
  {
   "cell_type": "code",
   "execution_count": null,
   "metadata": {},
   "outputs": [],
   "source": []
  },
  {
   "cell_type": "code",
   "execution_count": null,
   "metadata": {},
   "outputs": [],
   "source": [
    "# Compute pairwise distances between all vectors\n",
    "distance_matrix = squareform(pdist(X, metric='euclidean'))"
   ]
  },
  {
   "cell_type": "code",
   "execution_count": null,
   "metadata": {},
   "outputs": [],
   "source": [
    "clf = MultiOutputClassifier(RandomForestClassifier())\n",
    "\n",
    "# Active Learning Loop with precomputed distances\n",
    "for iteration in range(iterations):\n",
    "    clf.fit(X_train, y_train)\n",
    "\n",
    "    y_pred = clf.predict(X)\n",
    "    print(f\"Iteration {iteration + 1}: Accuracy = {accuracy_score(y, y_pred):.4f}\")\n",
    "    \n",
    "    # Compute distances between the current training set and the rest of the dataset using precomputed matrix\n",
    "    D = distance_matrix[initial_indices, :]  # Use the indices from the current training set\n",
    "    \n",
    "    # Select the furthest points from the training set\n",
    "    furthest_indices = np.argsort(D.mean(axis=0))[-sample_size:]\n",
    "    \n",
    "    # Add the selected samples to the training set\n",
    "    X_train = np.vstack([X_train, X[furthest_indices]])\n",
    "    y_train = np.concatenate([y_train, y[furthest_indices]], axis=0)\n",
    "    \n",
    "    # Remove the selected indices from the pool\n",
    "    remaining_indices = list(set(remaining_indices) - set(furthest_indices))\n",
    "    \n",
    "    if len(remaining_indices) == 0 or len(remaining_indices) < sample_size or len(X_train) >= 600:\n",
    "        break\n"
   ]
  },
  {
   "cell_type": "code",
   "execution_count": null,
   "metadata": {},
   "outputs": [],
   "source": [
    "# Final evaluation\n",
    "y_pred_final = clf.predict(X)\n",
    "final_accuracy = accuracy_score(y, y_pred_final)\n",
    "print(f\"Final Accuracy: {final_accuracy:.4f}\")"
   ]
  }
 ],
 "metadata": {
  "kernelspec": {
   "display_name": "dataanalysisvisualizationfiles-2DKRXcGy-py3.11",
   "language": "python",
   "name": "python3"
  },
  "language_info": {
   "codemirror_mode": {
    "name": "ipython",
    "version": 3
   },
   "file_extension": ".py",
   "mimetype": "text/x-python",
   "name": "python",
   "nbconvert_exporter": "python",
   "pygments_lexer": "ipython3",
   "version": "3.10.14"
  }
 },
 "nbformat": 4,
 "nbformat_minor": 2
}
